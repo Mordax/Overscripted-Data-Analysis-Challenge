{
 "cells": [
  {
   "cell_type": "markdown",
   "metadata": {},
   "source": [
    "# Cookie-less Tracking Using Canvas Fingerprinting: \n",
    "How websites make it harder for users to control their privacy preferences.  "
   ]
  },
  {
   "cell_type": "markdown",
   "metadata": {},
   "source": [
    "For Mozilla's Overscripted Challenge.  \n",
    "**Analyses Category:** Tracking and Privacy\n",
    "\n",
    "**Authors of this notebook:** [Maya Filipp](https://github.com/mordax) (email: maya@mordax.io) and [Chaya Danzinger](https://github.com/biskit1) (email: chayadanz@gmail.com)"
   ]
  },
  {
   "cell_type": "markdown",
   "metadata": {},
   "source": [
    " **Mozilla's Principle 4:**\n",
    " __Individuals’ security and privacy on the internet are fundamental and must not be treated as optional.__\n",
    " "
   ]
  },
  {
   "cell_type": "markdown",
   "metadata": {},
   "source": [
    "Individuals cannot be promised this fundamental right when companies and websites utilize techniques to track them in such a way that it takes away their ability to guard themselves against it. It is up to the browsers to help identify and warn users of techniques that are not predefined or obvious (cookies have a clear way of being removed - canvas fingerprinting does not). "
   ]
  },
  {
   "cell_type": "markdown",
   "metadata": {},
   "source": [
    "This analysis aims to examine the given dataset and determine the prevalence of ways in which websites can track their users without using standard cookies,specifically exploring the use of canvas fingerprinting to uniquely identify visitors. A few external resources were used to cross reference some of our analyses, referenced further on. "
   ]
  },
  {
   "cell_type": "markdown",
   "metadata": {},
   "source": [
    "Fingerprinting has become [increasingly popular](https://webtransparency.cs.princeton.edu/webcensus/index.html), given the ease with which websites can access a persons brwoser and system settings/configuration. To generate a unique identifier, websites collect the values of as many browser and system settings as possible to calculate an identifier for that browser. Once generated, a fingerprint can be used by websites and trackers in a number of ways to accomplish a number of different things, including tracking users for business purposes (analytics, marketing, advertising), as well as actually following a user accross the web until it can actually [de-anonymize](https://robertheaton.com/2017/10/17/we-see-you-democratizing-de-anonymization/) them."
   ]
  },
  {
   "cell_type": "markdown",
   "metadata": {},
   "source": [
    "## Getting Started"
   ]
  },
  {
   "cell_type": "markdown",
   "metadata": {},
   "source": [
    "> Using the same import statements as the hello_world.ipynb"
   ]
  },
  {
   "cell_type": "raw",
   "metadata": {},
   "source": [
    "import numpy as np\n",
    "import pandas as pd\n",
    "\n",
    "# pd.options.display.max_rows = None\n",
    "# pd.options.display.max_columns = None\n",
    "# Do not truncate cell values\n",
    "# pd.set_option('display.max_colwidth', -1)"
   ]
  },
  {
   "cell_type": "code",
   "execution_count": 2,
   "metadata": {},
   "outputs": [],
   "source": [
    "import tldextract\n",
    "DATA_DIR = '../data/' # Adjust to your path to dir containing parquets \n",
    "PARQUET_FILE = DATA_DIR\n",
    "def extract_domain(url):\n",
    "    \"\"\"Use tldextract to return the base domain from a url\"\"\"\n",
    "    try:\n",
    "        extracted = tldextract.extract(url)\n",
    "        return '{}.{}'.format(extracted.domain, extracted.suffix)\n",
    "    except Exception as e:\n",
    "        return 'ERROR'\n"
   ]
  },
  {
   "cell_type": "code",
   "execution_count": 3,
   "metadata": {},
   "outputs": [],
   "source": [
    "import findspark\n",
    "findspark.init('../spark-2.3.1-bin-hadoop2.7')  # Adjust for the location where you installed spark\n",
    "\n",
    "from pyspark import SparkContext\n",
    "from pyspark.sql import SparkSession\n",
    "\n",
    "sc = SparkContext(appName=\"Overscripted\")\n",
    "spark = SparkSession(sc)"
   ]
  },
  {
   "cell_type": "code",
   "execution_count": 4,
   "metadata": {},
   "outputs": [],
   "source": [
    "import requests\n",
    "from io import StringIO\n",
    "\n",
    "from pyspark.sql.functions import udf\n",
    "from pyspark.sql.types import *\n",
    "from urllib.parse import urlparse"
   ]
  },
  {
   "cell_type": "code",
   "execution_count": 5,
   "metadata": {},
   "outputs": [],
   "source": [
    "def parse_base_url(url):\n",
    "  \"\"\" Extract the base part of a URL (netloc, up until the first '/'). \"\"\"\n",
    "  return urlparse(url).netloc"
   ]
  },
  {
   "cell_type": "code",
   "execution_count": 6,
   "metadata": {},
   "outputs": [
    {
     "data": {
      "text/plain": [
       "563430"
      ]
     },
     "execution_count": 6,
     "metadata": {},
     "output_type": "execute_result"
    }
   ],
   "source": [
    "pdf = pd.read_parquet(PARQUET_FILE, engine='pyarrow')\n",
    "len(pdf)"
   ]
  },
  {
   "cell_type": "code",
   "execution_count": 7,
   "metadata": {},
   "outputs": [],
   "source": [
    "pdf['location_domain'] = pdf.location.apply(extract_domain)\n",
    "pdf['script_domain'] = pdf.script_url.apply(extract_domain)\n",
    "pdf['location_base_url'] = pdf.location.apply(parse_base_url)\n"
   ]
  },
  {
   "cell_type": "code",
   "execution_count": 8,
   "metadata": {},
   "outputs": [],
   "source": [
    "import dask.dataframe as dd\n",
    "from dask.diagnostics import ProgressBar\n",
    "ddf = dd.read_parquet(PARQUET_FILE, engine='pyarrow')\n",
    "ddf['location_domain'] = ddf.location.apply(extract_domain, meta=('x', 'str'))\n",
    "ddf['location_base_url'] = ddf.location.apply(parse_base_url, meta=('x', 'str'))\n",
    "ddf['script_domain'] = ddf.script_url.apply(extract_domain, meta=('x', 'str'))"
   ]
  },
  {
   "cell_type": "markdown",
   "metadata": {},
   "source": [
    "### Canvas Fingerprinting"
   ]
  },
  {
   "cell_type": "markdown",
   "metadata": {},
   "source": [
    "Just by looking at the [symbol counts](https://github.com/mozilla/Overscripted-Data-Analysis-Challenge/blob/master/data_prep/symbol_counts.csv), we were able to identify that the `canvas` was heavily involved in highly recurring calls to it's properties. Further research (outlined in [The Web Never Forgets](https://securehomes.esat.kuleuven.be/~gacar/persistent/the_web_never_forgets.pdf) confirmed a common basic flow of operations used to fingerprint the canvas, which we were able to apply to this dataset to test for fingerprinting. Although the `canvas API` might be regularly used by websites to obtain information for innocent rendering purposes and more, using the flow of operations helped to identify cases in which it was being used for fingerprinting. "
   ]
  },
  {
   "cell_type": "markdown",
   "metadata": {},
   "source": [
    "#### The Flow of Operations"
   ]
  },
  {
   "cell_type": "markdown",
   "metadata": {},
   "source": [
    "Obtaining canvas properties isn't enough to uniquely identify a browser or user, since there can be many users who have the same settings, use the same browser, live in the same area, etc. In order to identify a person's canvas uniqueness, the canvas property will usually be used along with a call to `fillText` (and set calls to more properties), followed by `toDataURL` call, for reasons described below. "
   ]
  },
  {
   "cell_type": "code",
   "execution_count": 9,
   "metadata": {},
   "outputs": [
    {
     "name": "stdout",
     "output_type": "stream",
     "text": [
      "[########################################] | 100% Completed | 34.0s\n",
      "[########################################] | 100% Completed | 32.5s\n",
      "[########################################] | 100% Completed | 32.2s\n",
      "[########################################] | 100% Completed | 32.0s\n",
      "[########################################] | 100% Completed | 33.4s\n",
      "[########################################] | 100% Completed | 32.0s\n"
     ]
    }
   ],
   "source": [
    "fillTexts = ddf[ddf.symbol == 'CanvasRenderingContext2D.fillText']\n",
    "toData = ddf[ddf.symbol == 'HTMLCanvasElement.toDataURL']\n",
    "strokeText = ddf[ddf.symbol == 'CanvasRenderingContext2D.strokeText']\n",
    "measureText = ddf[ddf.symbol == 'CanvasRenderingContext2D.measureText']\n",
    "dataImage = ddf[ddf.symbol == 'CanvasRenderingContext2D.putImageData']\n",
    "getContext = ddf[ddf.symbol == 'HTMLCanvasElement.getContext']\n",
    "with ProgressBar():\n",
    "    fillTexts = fillTexts.compute()\n",
    "    toData = toData.compute()\n",
    "    strokeText = strokeText.compute()\n",
    "    measureText = measureText.compute()\n",
    "    dataImage = dataImage.compute()\n",
    "    getContext = getContext.compute()"
   ]
  },
  {
   "cell_type": "markdown",
   "metadata": {},
   "source": [
    "An identifying component of canvas fingerprinting is when a site calls toDataURL along with fillText/strokeText/getContext/measureContext/dataImage. Below we identified the unique locations that have at least one of the combinations: "
   ]
  },
  {
   "cell_type": "code",
   "execution_count": 10,
   "metadata": {},
   "outputs": [],
   "source": [
    "import requests\n",
    "from io import StringIO\n",
    "\n",
    "from pyspark.sql.functions import udf\n",
    "from pyspark.sql.types import *\n",
    "from urllib.parse import urlparse"
   ]
  },
  {
   "cell_type": "markdown",
   "metadata": {},
   "source": [
    "#### fillText and toDataURL combined websites\n",
    "\n",
    "Some websites use both Canvas `fillText()` and `toDataURL()`. By filling the canvas with text and using toDataURL to get information on how the computer uniquely renders it, the site can tag you as a unique visitor. Usually the fillText() uses a pangram plus a unicode symbol (see below) so that it gets the most renderings for the most unique fingerprint. Interestingly enough, the websites that use a big set of fonts as arguments to filltext may be utilizing a different technique instead of a pangram. In [The Web Never Forgets]() they mention that if the image requested is not in a lossy format, it most likely is a Canvas fingerprint. Image/webp is passed as some of the arguments - webp can be used as a lossless format.\n",
    "\n",
    "**CanvasRenderingContext2D.measureText()** was not discussed in the articles but rather was a discovery of our own. A measureText returns a TextMetrics object that returns a calculated width of a segment of inline text in CSS pixels. It takes into account the current font of the context.(Width is the most supported measurement, there are many others that could potentially be used if browser support becomes ubiquitous). By passing a unique string and grabbing the width, it can be used as a replacment as a pangram in fingerprinting. We caught in one of our datasets that Stripe.network in particular was using this technique 58 times along with a fillText and a toDataURL.\n"
   ]
  },
  {
   "cell_type": "code",
   "execution_count": 11,
   "metadata": {},
   "outputs": [
    {
     "data": {
      "text/plain": [
       "2073"
      ]
     },
     "execution_count": 11,
     "metadata": {},
     "output_type": "execute_result"
    }
   ],
   "source": [
    "measureText.location_domain.count()"
   ]
  },
  {
   "cell_type": "code",
   "execution_count": 21,
   "metadata": {
    "scrolled": true
   },
   "outputs": [
    {
     "data": {
      "text/html": [
       "<div>\n",
       "<style scoped>\n",
       "    .dataframe tbody tr th:only-of-type {\n",
       "        vertical-align: middle;\n",
       "    }\n",
       "\n",
       "    .dataframe tbody tr th {\n",
       "        vertical-align: top;\n",
       "    }\n",
       "\n",
       "    .dataframe thead th {\n",
       "        text-align: right;\n",
       "    }\n",
       "</style>\n",
       "<table border=\"1\" class=\"dataframe\">\n",
       "  <thead>\n",
       "    <tr style=\"text-align: right;\">\n",
       "      <th></th>\n",
       "      <th></th>\n",
       "      <th></th>\n",
       "      <th></th>\n",
       "      <th></th>\n",
       "      <th>0</th>\n",
       "      <th>0</th>\n",
       "      <th>0</th>\n",
       "    </tr>\n",
       "    <tr>\n",
       "      <th>location_domain</th>\n",
       "      <th>script_domain</th>\n",
       "      <th>argument_0</th>\n",
       "      <th>argument_1</th>\n",
       "      <th>symbol</th>\n",
       "      <th></th>\n",
       "      <th></th>\n",
       "      <th></th>\n",
       "    </tr>\n",
       "  </thead>\n",
       "  <tbody>\n",
       "    <tr>\n",
       "      <th rowspan=\"5\" valign=\"top\">0daydown.com</th>\n",
       "      <th rowspan=\"5\" valign=\"top\">0daydown.com</th>\n",
       "      <th></th>\n",
       "      <th></th>\n",
       "      <th>HTMLCanvasElement.toDataURL</th>\n",
       "      <td>NaN</td>\n",
       "      <td>4.0</td>\n",
       "      <td>NaN</td>\n",
       "    </tr>\n",
       "    <tr>\n",
       "      <th>ðºâð³</th>\n",
       "      <th>0</th>\n",
       "      <th>CanvasRenderingContext2D.fillText</th>\n",
       "      <td>1.0</td>\n",
       "      <td>NaN</td>\n",
       "      <td>NaN</td>\n",
       "    </tr>\n",
       "    <tr>\n",
       "      <th>ðºð³</th>\n",
       "      <th>0</th>\n",
       "      <th>CanvasRenderingContext2D.fillText</th>\n",
       "      <td>1.0</td>\n",
       "      <td>NaN</td>\n",
       "      <td>NaN</td>\n",
       "    </tr>\n",
       "    <tr>\n",
       "      <th>ð§ââï¸</th>\n",
       "      <th>0</th>\n",
       "      <th>CanvasRenderingContext2D.fillText</th>\n",
       "      <td>1.0</td>\n",
       "      <td>NaN</td>\n",
       "      <td>NaN</td>\n",
       "    </tr>\n",
       "    <tr>\n",
       "      <th>ð§ââï¸</th>\n",
       "      <th>0</th>\n",
       "      <th>CanvasRenderingContext2D.fillText</th>\n",
       "      <td>1.0</td>\n",
       "      <td>NaN</td>\n",
       "      <td>NaN</td>\n",
       "    </tr>\n",
       "    <tr>\n",
       "      <th rowspan=\"3\" valign=\"top\">163.com</th>\n",
       "      <th rowspan=\"3\" valign=\"top\">127.net</th>\n",
       "      <th></th>\n",
       "      <th></th>\n",
       "      <th>HTMLCanvasElement.toDataURL</th>\n",
       "      <td>NaN</td>\n",
       "      <td>2.0</td>\n",
       "      <td>NaN</td>\n",
       "    </tr>\n",
       "    <tr>\n",
       "      <th rowspan=\"2\" valign=\"top\">mwC nkbafjord phsgly exvt zqiu, á½  tphst/:/uhbgtic.mo/levva</th>\n",
       "      <th>2</th>\n",
       "      <th>CanvasRenderingContext2D.fillText</th>\n",
       "      <td>1.0</td>\n",
       "      <td>NaN</td>\n",
       "      <td>NaN</td>\n",
       "    </tr>\n",
       "    <tr>\n",
       "      <th>4</th>\n",
       "      <th>CanvasRenderingContext2D.fillText</th>\n",
       "      <td>1.0</td>\n",
       "      <td>NaN</td>\n",
       "      <td>NaN</td>\n",
       "    </tr>\n",
       "    <tr>\n",
       "      <th>17173.com</th>\n",
       "      <th>17173cdn.com</th>\n",
       "      <th>image/png</th>\n",
       "      <th></th>\n",
       "      <th>HTMLCanvasElement.toDataURL</th>\n",
       "      <td>NaN</td>\n",
       "      <td>1.0</td>\n",
       "      <td>NaN</td>\n",
       "    </tr>\n",
       "    <tr>\n",
       "      <th>2mdn.net</th>\n",
       "      <th>2mdn.net</th>\n",
       "      <th>32</th>\n",
       "      <th></th>\n",
       "      <th>CanvasRenderingContext2D.measureText</th>\n",
       "      <td>NaN</td>\n",
       "      <td>NaN</td>\n",
       "      <td>1.0</td>\n",
       "    </tr>\n",
       "  </tbody>\n",
       "</table>\n",
       "</div>"
      ],
      "text/plain": [
       "                                                                                                                                    0  \\\n",
       "location_domain script_domain argument_0                                         argument_1 symbol                                      \n",
       "0daydown.com    0daydown.com                                                                HTMLCanvasElement.toDataURL           NaN   \n",
       "                              ðºâð³                                        0          CanvasRenderingContext2D.fillText     1.0   \n",
       "                              ðºð³                                           0          CanvasRenderingContext2D.fillText     1.0   \n",
       "                              ð§ââï¸                                      0          CanvasRenderingContext2D.fillText     1.0   \n",
       "                              ð§ââï¸                                      0          CanvasRenderingContext2D.fillText     1.0   \n",
       "163.com         127.net                                                                     HTMLCanvasElement.toDataURL           NaN   \n",
       "                              mwC nkbafjord phsgly exvt zqiu, á½  tphst/:/uhb... 2          CanvasRenderingContext2D.fillText     1.0   \n",
       "                                                                                 4          CanvasRenderingContext2D.fillText     1.0   \n",
       "17173.com       17173cdn.com  image/png                                                     HTMLCanvasElement.toDataURL           NaN   \n",
       "2mdn.net        2mdn.net      32                                                            CanvasRenderingContext2D.measureText  NaN   \n",
       "\n",
       "                                                                                                                                    0  \\\n",
       "location_domain script_domain argument_0                                         argument_1 symbol                                      \n",
       "0daydown.com    0daydown.com                                                                HTMLCanvasElement.toDataURL           4.0   \n",
       "                              ðºâð³                                        0          CanvasRenderingContext2D.fillText     NaN   \n",
       "                              ðºð³                                           0          CanvasRenderingContext2D.fillText     NaN   \n",
       "                              ð§ââï¸                                      0          CanvasRenderingContext2D.fillText     NaN   \n",
       "                              ð§ââï¸                                      0          CanvasRenderingContext2D.fillText     NaN   \n",
       "163.com         127.net                                                                     HTMLCanvasElement.toDataURL           2.0   \n",
       "                              mwC nkbafjord phsgly exvt zqiu, á½  tphst/:/uhb... 2          CanvasRenderingContext2D.fillText     NaN   \n",
       "                                                                                 4          CanvasRenderingContext2D.fillText     NaN   \n",
       "17173.com       17173cdn.com  image/png                                                     HTMLCanvasElement.toDataURL           1.0   \n",
       "2mdn.net        2mdn.net      32                                                            CanvasRenderingContext2D.measureText  NaN   \n",
       "\n",
       "                                                                                                                                    0  \n",
       "location_domain script_domain argument_0                                         argument_1 symbol                                     \n",
       "0daydown.com    0daydown.com                                                                HTMLCanvasElement.toDataURL           NaN  \n",
       "                              ðºâð³                                        0          CanvasRenderingContext2D.fillText     NaN  \n",
       "                              ðºð³                                           0          CanvasRenderingContext2D.fillText     NaN  \n",
       "                              ð§ââï¸                                      0          CanvasRenderingContext2D.fillText     NaN  \n",
       "                              ð§ââï¸                                      0          CanvasRenderingContext2D.fillText     NaN  \n",
       "163.com         127.net                                                                     HTMLCanvasElement.toDataURL           NaN  \n",
       "                              mwC nkbafjord phsgly exvt zqiu, á½  tphst/:/uhb... 2          CanvasRenderingContext2D.fillText     NaN  \n",
       "                                                                                 4          CanvasRenderingContext2D.fillText     NaN  \n",
       "17173.com       17173cdn.com  image/png                                                     HTMLCanvasElement.toDataURL           NaN  \n",
       "2mdn.net        2mdn.net      32                                                            CanvasRenderingContext2D.measureText  1.0  "
      ]
     },
     "execution_count": 21,
     "metadata": {},
     "output_type": "execute_result"
    }
   ],
   "source": [
    "d1 = pd.DataFrame(fillTexts.groupby(['location_domain', 'script_domain', 'argument_0', 'argument_1', 'symbol']).size())\n",
    "d2 = pd.DataFrame(toData.groupby(['location_domain','script_domain', 'argument_0', 'argument_1', 'symbol']).size())\n",
    "d3 = pd.DataFrame(measureText.groupby(['location_domain','script_domain', 'argument_0', 'argument_1', 'symbol']).size())\n",
    "pd.concat([d1, d2, d3], axis=1).head(10)"
   ]
  },
  {
   "cell_type": "code",
   "execution_count": 20,
   "metadata": {},
   "outputs": [
    {
     "data": {
      "text/html": [
       "<div>\n",
       "<style scoped>\n",
       "    .dataframe tbody tr th:only-of-type {\n",
       "        vertical-align: middle;\n",
       "    }\n",
       "\n",
       "    .dataframe tbody tr th {\n",
       "        vertical-align: top;\n",
       "    }\n",
       "\n",
       "    .dataframe thead th {\n",
       "        text-align: right;\n",
       "    }\n",
       "</style>\n",
       "<table border=\"1\" class=\"dataframe\">\n",
       "  <thead>\n",
       "    <tr style=\"text-align: right;\">\n",
       "      <th></th>\n",
       "      <th>argument_0</th>\n",
       "      <th>argument_1</th>\n",
       "      <th>argument_2</th>\n",
       "      <th>argument_3</th>\n",
       "      <th>argument_4</th>\n",
       "      <th>argument_5</th>\n",
       "      <th>argument_6</th>\n",
       "      <th>argument_7</th>\n",
       "      <th>argument_8</th>\n",
       "      <th>arguments</th>\n",
       "      <th>...</th>\n",
       "      <th>symbol</th>\n",
       "      <th>time_stamp</th>\n",
       "      <th>value</th>\n",
       "      <th>value_1000</th>\n",
       "      <th>value_len</th>\n",
       "      <th>valid</th>\n",
       "      <th>errors</th>\n",
       "      <th>location_domain</th>\n",
       "      <th>location_base_url</th>\n",
       "      <th>script_domain</th>\n",
       "    </tr>\n",
       "  </thead>\n",
       "  <tbody>\n",
       "    <tr>\n",
       "      <th>1758</th>\n",
       "      <td>ðºð³</td>\n",
       "      <td>0</td>\n",
       "      <td>0</td>\n",
       "      <td></td>\n",
       "      <td></td>\n",
       "      <td></td>\n",
       "      <td></td>\n",
       "      <td></td>\n",
       "      <td></td>\n",
       "      <td>{\"0\":\"🇺🇳\",\"1\":0,\"2\":0}</td>\n",
       "      <td>...</td>\n",
       "      <td>CanvasRenderingContext2D.fillText</td>\n",
       "      <td>2017-12-16 15:27:18.970</td>\n",
       "      <td></td>\n",
       "      <td></td>\n",
       "      <td>0</td>\n",
       "      <td>True</td>\n",
       "      <td></td>\n",
       "      <td>weblogssl.com</td>\n",
       "      <td>www.weblogssl.com</td>\n",
       "      <td>weblogssl.com</td>\n",
       "    </tr>\n",
       "    <tr>\n",
       "      <th>1762</th>\n",
       "      <td>ðºâð³</td>\n",
       "      <td>0</td>\n",
       "      <td>0</td>\n",
       "      <td></td>\n",
       "      <td></td>\n",
       "      <td></td>\n",
       "      <td></td>\n",
       "      <td></td>\n",
       "      <td></td>\n",
       "      <td>{\"0\":\"🇺​🇳\",\"1\":0,\"2\":0}</td>\n",
       "      <td>...</td>\n",
       "      <td>CanvasRenderingContext2D.fillText</td>\n",
       "      <td>2017-12-16 15:27:18.975</td>\n",
       "      <td></td>\n",
       "      <td></td>\n",
       "      <td>0</td>\n",
       "      <td>True</td>\n",
       "      <td></td>\n",
       "      <td>weblogssl.com</td>\n",
       "      <td>www.weblogssl.com</td>\n",
       "      <td>weblogssl.com</td>\n",
       "    </tr>\n",
       "    <tr>\n",
       "      <th>1768</th>\n",
       "      <td>ð§ââï¸</td>\n",
       "      <td>0</td>\n",
       "      <td>0</td>\n",
       "      <td></td>\n",
       "      <td></td>\n",
       "      <td></td>\n",
       "      <td></td>\n",
       "      <td></td>\n",
       "      <td></td>\n",
       "      <td>{\"0\":\"🧚‍♂️\",\"1\":0,\"2\":0}</td>\n",
       "      <td>...</td>\n",
       "      <td>CanvasRenderingContext2D.fillText</td>\n",
       "      <td>2017-12-16 15:27:18.978</td>\n",
       "      <td></td>\n",
       "      <td></td>\n",
       "      <td>0</td>\n",
       "      <td>True</td>\n",
       "      <td></td>\n",
       "      <td>weblogssl.com</td>\n",
       "      <td>www.weblogssl.com</td>\n",
       "      <td>weblogssl.com</td>\n",
       "    </tr>\n",
       "    <tr>\n",
       "      <th>1772</th>\n",
       "      <td>ð§ââï¸</td>\n",
       "      <td>0</td>\n",
       "      <td>0</td>\n",
       "      <td></td>\n",
       "      <td></td>\n",
       "      <td></td>\n",
       "      <td></td>\n",
       "      <td></td>\n",
       "      <td></td>\n",
       "      <td>{\"0\":\"🧚​♂️\",\"1\":0,\"2\":0}</td>\n",
       "      <td>...</td>\n",
       "      <td>CanvasRenderingContext2D.fillText</td>\n",
       "      <td>2017-12-16 15:27:18.981</td>\n",
       "      <td></td>\n",
       "      <td></td>\n",
       "      <td>0</td>\n",
       "      <td>True</td>\n",
       "      <td></td>\n",
       "      <td>weblogssl.com</td>\n",
       "      <td>www.weblogssl.com</td>\n",
       "      <td>weblogssl.com</td>\n",
       "    </tr>\n",
       "    <tr>\n",
       "      <th>2300</th>\n",
       "      <td>http://valve.github.io</td>\n",
       "      <td>2</td>\n",
       "      <td>15</td>\n",
       "      <td></td>\n",
       "      <td></td>\n",
       "      <td></td>\n",
       "      <td></td>\n",
       "      <td></td>\n",
       "      <td></td>\n",
       "      <td>{\"0\":\"http://valve.github.io\",\"1\":2,\"2\":15}</td>\n",
       "      <td>...</td>\n",
       "      <td>CanvasRenderingContext2D.fillText</td>\n",
       "      <td>2017-12-16 23:05:22.355</td>\n",
       "      <td></td>\n",
       "      <td></td>\n",
       "      <td>0</td>\n",
       "      <td>True</td>\n",
       "      <td></td>\n",
       "      <td>zalando.de</td>\n",
       "      <td>www.zalando.de</td>\n",
       "      <td>metrigo.com</td>\n",
       "    </tr>\n",
       "    <tr>\n",
       "      <th>2302</th>\n",
       "      <td>http://valve.github.io</td>\n",
       "      <td>4</td>\n",
       "      <td>17</td>\n",
       "      <td></td>\n",
       "      <td></td>\n",
       "      <td></td>\n",
       "      <td></td>\n",
       "      <td></td>\n",
       "      <td></td>\n",
       "      <td>{\"0\":\"http://valve.github.io\",\"1\":4,\"2\":17}</td>\n",
       "      <td>...</td>\n",
       "      <td>CanvasRenderingContext2D.fillText</td>\n",
       "      <td>2017-12-16 23:05:22.360</td>\n",
       "      <td></td>\n",
       "      <td></td>\n",
       "      <td>0</td>\n",
       "      <td>True</td>\n",
       "      <td></td>\n",
       "      <td>zalando.de</td>\n",
       "      <td>www.zalando.de</td>\n",
       "      <td>metrigo.com</td>\n",
       "    </tr>\n",
       "    <tr>\n",
       "      <th>2851</th>\n",
       "      <td>Cwm fjordbank glyphs vext quiz, ð</td>\n",
       "      <td>2</td>\n",
       "      <td>15</td>\n",
       "      <td></td>\n",
       "      <td></td>\n",
       "      <td></td>\n",
       "      <td></td>\n",
       "      <td></td>\n",
       "      <td></td>\n",
       "      <td>{\"0\":\"Cwm fjordbank glyphs vext quiz, 😃\",\"1\":2...</td>\n",
       "      <td>...</td>\n",
       "      <td>CanvasRenderingContext2D.fillText</td>\n",
       "      <td>2017-12-16 17:58:43.069</td>\n",
       "      <td></td>\n",
       "      <td></td>\n",
       "      <td>0</td>\n",
       "      <td>True</td>\n",
       "      <td></td>\n",
       "      <td>epwk.com</td>\n",
       "      <td>www.epwk.com</td>\n",
       "      <td>bshare.cn</td>\n",
       "    </tr>\n",
       "    <tr>\n",
       "      <th>2854</th>\n",
       "      <td>Cwm fjordbank glyphs vext quiz, ð</td>\n",
       "      <td>4</td>\n",
       "      <td>45</td>\n",
       "      <td></td>\n",
       "      <td></td>\n",
       "      <td></td>\n",
       "      <td></td>\n",
       "      <td></td>\n",
       "      <td></td>\n",
       "      <td>{\"0\":\"Cwm fjordbank glyphs vext quiz, 😃\",\"1\":4...</td>\n",
       "      <td>...</td>\n",
       "      <td>CanvasRenderingContext2D.fillText</td>\n",
       "      <td>2017-12-16 17:58:43.072</td>\n",
       "      <td></td>\n",
       "      <td></td>\n",
       "      <td>0</td>\n",
       "      <td>True</td>\n",
       "      <td></td>\n",
       "      <td>epwk.com</td>\n",
       "      <td>www.epwk.com</td>\n",
       "      <td>bshare.cn</td>\n",
       "    </tr>\n",
       "    <tr>\n",
       "      <th>12655</th>\n",
       "      <td>ðºð³</td>\n",
       "      <td>0</td>\n",
       "      <td>0</td>\n",
       "      <td></td>\n",
       "      <td></td>\n",
       "      <td></td>\n",
       "      <td></td>\n",
       "      <td></td>\n",
       "      <td></td>\n",
       "      <td>{\"0\":\"🇺🇳\",\"1\":0,\"2\":0}</td>\n",
       "      <td>...</td>\n",
       "      <td>CanvasRenderingContext2D.fillText</td>\n",
       "      <td>2017-12-16 14:40:50.903</td>\n",
       "      <td></td>\n",
       "      <td></td>\n",
       "      <td>0</td>\n",
       "      <td>True</td>\n",
       "      <td></td>\n",
       "      <td>redditblog.com</td>\n",
       "      <td>redditblog.com</td>\n",
       "      <td>redditblog.com</td>\n",
       "    </tr>\n",
       "    <tr>\n",
       "      <th>12659</th>\n",
       "      <td>ðºâð³</td>\n",
       "      <td>0</td>\n",
       "      <td>0</td>\n",
       "      <td></td>\n",
       "      <td></td>\n",
       "      <td></td>\n",
       "      <td></td>\n",
       "      <td></td>\n",
       "      <td></td>\n",
       "      <td>{\"0\":\"🇺​🇳\",\"1\":0,\"2\":0}</td>\n",
       "      <td>...</td>\n",
       "      <td>CanvasRenderingContext2D.fillText</td>\n",
       "      <td>2017-12-16 14:40:50.909</td>\n",
       "      <td></td>\n",
       "      <td></td>\n",
       "      <td>0</td>\n",
       "      <td>True</td>\n",
       "      <td></td>\n",
       "      <td>redditblog.com</td>\n",
       "      <td>redditblog.com</td>\n",
       "      <td>redditblog.com</td>\n",
       "    </tr>\n",
       "  </tbody>\n",
       "</table>\n",
       "<p>10 rows × 33 columns</p>\n",
       "</div>"
      ],
      "text/plain": [
       "                                 argument_0 argument_1 argument_2 argument_3  \\\n",
       "1758                               ðºð³          0          0              \n",
       "1762                            ðºâð³          0          0              \n",
       "1768                          ð§ââï¸          0          0              \n",
       "1772                          ð§ââï¸          0          0              \n",
       "2300                 http://valve.github.io          2         15              \n",
       "2302                 http://valve.github.io          4         17              \n",
       "2851   Cwm fjordbank glyphs vext quiz, ð          2         15              \n",
       "2854   Cwm fjordbank glyphs vext quiz, ð          4         45              \n",
       "12655                              ðºð³          0          0              \n",
       "12659                           ðºâð³          0          0              \n",
       "\n",
       "      argument_4 argument_5 argument_6 argument_7 argument_8  \\\n",
       "1758                                                           \n",
       "1762                                                           \n",
       "1768                                                           \n",
       "1772                                                           \n",
       "2300                                                           \n",
       "2302                                                           \n",
       "2851                                                           \n",
       "2854                                                           \n",
       "12655                                                          \n",
       "12659                                                          \n",
       "\n",
       "                                               arguments       ...        \\\n",
       "1758                              {\"0\":\"🇺🇳\",\"1\":0,\"2\":0}       ...         \n",
       "1762                             {\"0\":\"🇺​🇳\",\"1\":0,\"2\":0}       ...         \n",
       "1768                            {\"0\":\"🧚‍♂️\",\"1\":0,\"2\":0}       ...         \n",
       "1772                            {\"0\":\"🧚​♂️\",\"1\":0,\"2\":0}       ...         \n",
       "2300         {\"0\":\"http://valve.github.io\",\"1\":2,\"2\":15}       ...         \n",
       "2302         {\"0\":\"http://valve.github.io\",\"1\":4,\"2\":17}       ...         \n",
       "2851   {\"0\":\"Cwm fjordbank glyphs vext quiz, 😃\",\"1\":2...       ...         \n",
       "2854   {\"0\":\"Cwm fjordbank glyphs vext quiz, 😃\",\"1\":4...       ...         \n",
       "12655                             {\"0\":\"🇺🇳\",\"1\":0,\"2\":0}       ...         \n",
       "12659                            {\"0\":\"🇺​🇳\",\"1\":0,\"2\":0}       ...         \n",
       "\n",
       "                                  symbol              time_stamp value  \\\n",
       "1758   CanvasRenderingContext2D.fillText 2017-12-16 15:27:18.970         \n",
       "1762   CanvasRenderingContext2D.fillText 2017-12-16 15:27:18.975         \n",
       "1768   CanvasRenderingContext2D.fillText 2017-12-16 15:27:18.978         \n",
       "1772   CanvasRenderingContext2D.fillText 2017-12-16 15:27:18.981         \n",
       "2300   CanvasRenderingContext2D.fillText 2017-12-16 23:05:22.355         \n",
       "2302   CanvasRenderingContext2D.fillText 2017-12-16 23:05:22.360         \n",
       "2851   CanvasRenderingContext2D.fillText 2017-12-16 17:58:43.069         \n",
       "2854   CanvasRenderingContext2D.fillText 2017-12-16 17:58:43.072         \n",
       "12655  CanvasRenderingContext2D.fillText 2017-12-16 14:40:50.903         \n",
       "12659  CanvasRenderingContext2D.fillText 2017-12-16 14:40:50.909         \n",
       "\n",
       "       value_1000 value_len valid  errors location_domain  location_base_url  \\\n",
       "1758                      0  True           weblogssl.com  www.weblogssl.com   \n",
       "1762                      0  True           weblogssl.com  www.weblogssl.com   \n",
       "1768                      0  True           weblogssl.com  www.weblogssl.com   \n",
       "1772                      0  True           weblogssl.com  www.weblogssl.com   \n",
       "2300                      0  True              zalando.de     www.zalando.de   \n",
       "2302                      0  True              zalando.de     www.zalando.de   \n",
       "2851                      0  True                epwk.com       www.epwk.com   \n",
       "2854                      0  True                epwk.com       www.epwk.com   \n",
       "12655                     0  True          redditblog.com     redditblog.com   \n",
       "12659                     0  True          redditblog.com     redditblog.com   \n",
       "\n",
       "        script_domain  \n",
       "1758    weblogssl.com  \n",
       "1762    weblogssl.com  \n",
       "1768    weblogssl.com  \n",
       "1772    weblogssl.com  \n",
       "2300      metrigo.com  \n",
       "2302      metrigo.com  \n",
       "2851        bshare.cn  \n",
       "2854        bshare.cn  \n",
       "12655  redditblog.com  \n",
       "12659  redditblog.com  \n",
       "\n",
       "[10 rows x 33 columns]"
      ]
     },
     "execution_count": 20,
     "metadata": {},
     "output_type": "execute_result"
    }
   ],
   "source": [
    "pd.concat([fillTexts, toData, measureText]).head(10)"
   ]
  },
  {
   "cell_type": "markdown",
   "metadata": {},
   "source": [
    "#### Pangrams and unique render identifiers\n",
    "Below we can see some of the arguments passed to the fillTexts are pangrams (Cwm fjordbank glyphs vext quiz, ð) for example. Something that we caught as we were investigating this is this argument: <@nv45. F1n63r,Pr1n71n6! . If you look closely, it says Canvas. Finger,printing! in Leetspeek. Pangrams are used to observe how a computer renders all letters plus usually a unicode item is used too. This is outlined in [The Web Never Forgets.](https://securehomes.esat.kuleuven.be/~gacar/persistent/the_web_never_forgets.pdf)\n",
    "\n",
    "Another thing we tested out of sheer curiousity is that Canvas fillText() actually can take eval() functions and output to the screen. There is no built in protection against this in the function itself. One can use an eval input and pass the argument to fillText to have a unique code for the visitor, or someone can use it for malicious XSS attacks."
   ]
  },
  {
   "cell_type": "markdown",
   "metadata": {},
   "source": [
    "#### fillText and toDataURL combined websites\n",
    "\n",
    "What we're seeing above are websites that use both Canvas `fillText()` and `toDataURL()`. By filling the canvas with text and using toDataURL to get information on how the computer uniquely renders it, the site can tag you as a unique visitor. Usually the fillText() uses a pangram plus a unicode symbol (see below) so that it gets the most renderings for the most unique fingerprint. Interestingly enough, the websites that use a big set of fonts as arguments to filltext may be utilizing a different technique instead of a pangram. In [The Web Never Forgets]() they mention that if the image requested is not in a lossy format, it most likely is a Canvas fingerprint. Image/webp is passed as some of the arguments - webp can be used as a lossless format.\n",
    "\n",
    "**CanvasRenderingContext2D.measureText()** was not discussed in the articles but rather was a discovery of our own. A measureText returns a TextMetrics object that returns a calculated width of a segment of inline text in CSS pixels. It takes into account the current font of the context.(Width is the most supported measurement, there are many others that could potentially be used if browser support becomes ubiquitous). By passing a unique string and grabbing the width, it can be used as a replacment as a pangram in fingerprinting. We caught in one of our datasets that Stripe.network in particular was using this technique 58 times along with a fillText and a toDataURL.\n"
   ]
  },
  {
   "cell_type": "markdown",
   "metadata": {},
   "source": [
    "What sort of arguments are being passed to fillTexts?"
   ]
  },
  {
   "cell_type": "code",
   "execution_count": 22,
   "metadata": {},
   "outputs": [
    {
     "data": {
      "text/html": [
       "<div>\n",
       "<style scoped>\n",
       "    .dataframe tbody tr th:only-of-type {\n",
       "        vertical-align: middle;\n",
       "    }\n",
       "\n",
       "    .dataframe tbody tr th {\n",
       "        vertical-align: top;\n",
       "    }\n",
       "\n",
       "    .dataframe thead th {\n",
       "        text-align: right;\n",
       "    }\n",
       "</style>\n",
       "<table border=\"1\" class=\"dataframe\">\n",
       "  <thead>\n",
       "    <tr style=\"text-align: right;\">\n",
       "      <th></th>\n",
       "      <th>argument_0</th>\n",
       "    </tr>\n",
       "  </thead>\n",
       "  <tbody>\n",
       "    <tr>\n",
       "      <th>ð</th>\n",
       "      <td>154</td>\n",
       "    </tr>\n",
       "    <tr>\n",
       "      <th>Cwm fjordbank glyphs vext quiz, ð</th>\n",
       "      <td>70</td>\n",
       "    </tr>\n",
       "    <tr>\n",
       "      <th></th>\n",
       "      <td>70</td>\n",
       "    </tr>\n",
       "    <tr>\n",
       "      <th>ðºð³</th>\n",
       "      <td>53</td>\n",
       "    </tr>\n",
       "    <tr>\n",
       "      <th>201706</th>\n",
       "      <td>50</td>\n",
       "    </tr>\n",
       "  </tbody>\n",
       "</table>\n",
       "</div>"
      ],
      "text/plain": [
       "                                      argument_0\n",
       "ð                                         154\n",
       "Cwm fjordbank glyphs vext quiz, ð          70\n",
       "                                              70\n",
       "ðºð³                                      53\n",
       "201706                                        50"
      ]
     },
     "execution_count": 22,
     "metadata": {},
     "output_type": "execute_result"
    }
   ],
   "source": [
    "# What's being written to canvas\n",
    "pd.DataFrame(fillTexts.argument_0.value_counts()).head()"
   ]
  },
  {
   "cell_type": "code",
   "execution_count": 23,
   "metadata": {},
   "outputs": [
    {
     "data": {
      "text/html": [
       "<div>\n",
       "<style scoped>\n",
       "    .dataframe tbody tr th:only-of-type {\n",
       "        vertical-align: middle;\n",
       "    }\n",
       "\n",
       "    .dataframe tbody tr th {\n",
       "        vertical-align: top;\n",
       "    }\n",
       "\n",
       "    .dataframe thead th {\n",
       "        text-align: right;\n",
       "    }\n",
       "</style>\n",
       "<table border=\"1\" class=\"dataframe\">\n",
       "  <thead>\n",
       "    <tr style=\"text-align: right;\">\n",
       "      <th></th>\n",
       "      <th></th>\n",
       "      <th></th>\n",
       "      <th>0</th>\n",
       "    </tr>\n",
       "    <tr>\n",
       "      <th>location_domain</th>\n",
       "      <th>script_domain</th>\n",
       "      <th>argument_0</th>\n",
       "      <th></th>\n",
       "    </tr>\n",
       "  </thead>\n",
       "  <tbody>\n",
       "    <tr>\n",
       "      <th>bhg.com</th>\n",
       "      <th>b2c.com</th>\n",
       "      <th>t</th>\n",
       "      <td>1</td>\n",
       "    </tr>\n",
       "    <tr>\n",
       "      <th rowspan=\"2\" valign=\"top\">gravitytales.com</th>\n",
       "      <th rowspan=\"2\" valign=\"top\">securepaths.com</th>\n",
       "      <th>180</th>\n",
       "      <td>1</td>\n",
       "    </tr>\n",
       "    <tr>\n",
       "      <th>934</th>\n",
       "      <td>1</td>\n",
       "    </tr>\n",
       "    <tr>\n",
       "      <th>scitation.org</th>\n",
       "      <th>b2c.com</th>\n",
       "      <th>t</th>\n",
       "      <td>1</td>\n",
       "    </tr>\n",
       "    <tr>\n",
       "      <th rowspan=\"2\" valign=\"top\">zedo.com</th>\n",
       "      <th rowspan=\"2\" valign=\"top\">fqtag.com</th>\n",
       "      <th>180</th>\n",
       "      <td>1</td>\n",
       "    </tr>\n",
       "    <tr>\n",
       "      <th>934</th>\n",
       "      <td>1</td>\n",
       "    </tr>\n",
       "  </tbody>\n",
       "</table>\n",
       "</div>"
      ],
      "text/plain": [
       "                                             0\n",
       "location_domain  script_domain   argument_0   \n",
       "bhg.com          b2c.com         t           1\n",
       "gravitytales.com securepaths.com 180         1\n",
       "                                 934         1\n",
       "scitation.org    b2c.com         t           1\n",
       "zedo.com         fqtag.com       180         1\n",
       "                                 934         1"
      ]
     },
     "execution_count": 23,
     "metadata": {},
     "output_type": "execute_result"
    }
   ],
   "source": [
    "pd.DataFrame(strokeText.groupby(['location_domain', 'script_domain', 'argument_0']).size()) #Pulling up StrokeText"
   ]
  },
  {
   "cell_type": "markdown",
   "metadata": {},
   "source": [
    "In \"The Web never forgets\", they mention CanvasRenderingContext2D.strokeText() being used similarly as fillText, although it seems filltext is more popular."
   ]
  },
  {
   "cell_type": "code",
   "execution_count": 25,
   "metadata": {},
   "outputs": [
    {
     "data": {
      "text/html": [
       "<div>\n",
       "<style scoped>\n",
       "    .dataframe tbody tr th:only-of-type {\n",
       "        vertical-align: middle;\n",
       "    }\n",
       "\n",
       "    .dataframe tbody tr th {\n",
       "        vertical-align: top;\n",
       "    }\n",
       "\n",
       "    .dataframe thead th {\n",
       "        text-align: right;\n",
       "    }\n",
       "</style>\n",
       "<table border=\"1\" class=\"dataframe\">\n",
       "  <thead>\n",
       "    <tr style=\"text-align: right;\">\n",
       "      <th></th>\n",
       "      <th></th>\n",
       "      <th></th>\n",
       "      <th></th>\n",
       "      <th></th>\n",
       "      <th>0</th>\n",
       "      <th>0</th>\n",
       "    </tr>\n",
       "    <tr>\n",
       "      <th>location_domain</th>\n",
       "      <th>script_domain</th>\n",
       "      <th>argument_0</th>\n",
       "      <th>argument_1</th>\n",
       "      <th>symbol</th>\n",
       "      <th></th>\n",
       "      <th></th>\n",
       "    </tr>\n",
       "  </thead>\n",
       "  <tbody>\n",
       "    <tr>\n",
       "      <th rowspan=\"2\" valign=\"top\">0daydown.com</th>\n",
       "      <th rowspan=\"2\" valign=\"top\">0daydown.com</th>\n",
       "      <th></th>\n",
       "      <th></th>\n",
       "      <th>HTMLCanvasElement.toDataURL</th>\n",
       "      <td>NaN</td>\n",
       "      <td>4.0</td>\n",
       "    </tr>\n",
       "    <tr>\n",
       "      <th>2d</th>\n",
       "      <th></th>\n",
       "      <th>HTMLCanvasElement.getContext</th>\n",
       "      <td>1.0</td>\n",
       "      <td>NaN</td>\n",
       "    </tr>\n",
       "    <tr>\n",
       "      <th>104china.com</th>\n",
       "      <th>104china.com</th>\n",
       "      <th>2d</th>\n",
       "      <th></th>\n",
       "      <th>HTMLCanvasElement.getContext</th>\n",
       "      <td>2.0</td>\n",
       "      <td>NaN</td>\n",
       "    </tr>\n",
       "    <tr>\n",
       "      <th>11street.my</th>\n",
       "      <th>11street.my</th>\n",
       "      <th>2d</th>\n",
       "      <th></th>\n",
       "      <th>HTMLCanvasElement.getContext</th>\n",
       "      <td>15.0</td>\n",
       "      <td>NaN</td>\n",
       "    </tr>\n",
       "    <tr>\n",
       "      <th rowspan=\"3\" valign=\"top\">163.com</th>\n",
       "      <th rowspan=\"3\" valign=\"top\">127.net</th>\n",
       "      <th></th>\n",
       "      <th></th>\n",
       "      <th>HTMLCanvasElement.toDataURL</th>\n",
       "      <td>NaN</td>\n",
       "      <td>2.0</td>\n",
       "    </tr>\n",
       "    <tr>\n",
       "      <th>2d</th>\n",
       "      <th></th>\n",
       "      <th>HTMLCanvasElement.getContext</th>\n",
       "      <td>2.0</td>\n",
       "      <td>NaN</td>\n",
       "    </tr>\n",
       "    <tr>\n",
       "      <th>webgl</th>\n",
       "      <th></th>\n",
       "      <th>HTMLCanvasElement.getContext</th>\n",
       "      <td>1.0</td>\n",
       "      <td>NaN</td>\n",
       "    </tr>\n",
       "    <tr>\n",
       "      <th rowspan=\"2\" valign=\"top\">17173.com</th>\n",
       "      <th rowspan=\"2\" valign=\"top\">17173cdn.com</th>\n",
       "      <th>2d</th>\n",
       "      <th></th>\n",
       "      <th>HTMLCanvasElement.getContext</th>\n",
       "      <td>5.0</td>\n",
       "      <td>NaN</td>\n",
       "    </tr>\n",
       "    <tr>\n",
       "      <th>image/png</th>\n",
       "      <th></th>\n",
       "      <th>HTMLCanvasElement.toDataURL</th>\n",
       "      <td>NaN</td>\n",
       "      <td>1.0</td>\n",
       "    </tr>\n",
       "    <tr>\n",
       "      <th>2mdn.net</th>\n",
       "      <th>2mdn.net</th>\n",
       "      <th>2d</th>\n",
       "      <th></th>\n",
       "      <th>HTMLCanvasElement.getContext</th>\n",
       "      <td>33.0</td>\n",
       "      <td>NaN</td>\n",
       "    </tr>\n",
       "  </tbody>\n",
       "</table>\n",
       "</div>"
      ],
      "text/plain": [
       "                                                                                     0  \\\n",
       "location_domain script_domain argument_0 argument_1 symbol                               \n",
       "0daydown.com    0daydown.com                        HTMLCanvasElement.toDataURL    NaN   \n",
       "                              2d                    HTMLCanvasElement.getContext   1.0   \n",
       "104china.com    104china.com  2d                    HTMLCanvasElement.getContext   2.0   \n",
       "11street.my     11street.my   2d                    HTMLCanvasElement.getContext  15.0   \n",
       "163.com         127.net                             HTMLCanvasElement.toDataURL    NaN   \n",
       "                              2d                    HTMLCanvasElement.getContext   2.0   \n",
       "                              webgl                 HTMLCanvasElement.getContext   1.0   \n",
       "17173.com       17173cdn.com  2d                    HTMLCanvasElement.getContext   5.0   \n",
       "                              image/png             HTMLCanvasElement.toDataURL    NaN   \n",
       "2mdn.net        2mdn.net      2d                    HTMLCanvasElement.getContext  33.0   \n",
       "\n",
       "                                                                                    0  \n",
       "location_domain script_domain argument_0 argument_1 symbol                             \n",
       "0daydown.com    0daydown.com                        HTMLCanvasElement.toDataURL   4.0  \n",
       "                              2d                    HTMLCanvasElement.getContext  NaN  \n",
       "104china.com    104china.com  2d                    HTMLCanvasElement.getContext  NaN  \n",
       "11street.my     11street.my   2d                    HTMLCanvasElement.getContext  NaN  \n",
       "163.com         127.net                             HTMLCanvasElement.toDataURL   2.0  \n",
       "                              2d                    HTMLCanvasElement.getContext  NaN  \n",
       "                              webgl                 HTMLCanvasElement.getContext  NaN  \n",
       "17173.com       17173cdn.com  2d                    HTMLCanvasElement.getContext  NaN  \n",
       "                              image/png             HTMLCanvasElement.toDataURL   1.0  \n",
       "2mdn.net        2mdn.net      2d                    HTMLCanvasElement.getContext  NaN  "
      ]
     },
     "execution_count": 25,
     "metadata": {},
     "output_type": "execute_result"
    }
   ],
   "source": [
    "#Combining getcontect and tourldata to see if context is instead used as a canvas fingerprint method.\n",
    "d1 = pd.DataFrame(getContext.groupby(['location_domain','script_domain', 'argument_0', 'argument_1', 'symbol']).size())\n",
    "d2 = pd.DataFrame(toData.groupby(['location_domain','script_domain', 'argument_0', 'argument_1', 'symbol']).size())\n",
    "pd.concat([d1, d2], axis=1).head(10)"
   ]
  },
  {
   "cell_type": "markdown",
   "metadata": {},
   "source": [
    "Above we can see a call to grab HTMLCanvasElement.getContext(), which returns information on the drawing context for the canvas. It can be used to check rendering. If toDataURL is paired, it's most likely using that as a fingerprint. See [canvas](https://cseweb.ucsd.edu/~hovav/dist/canvas.pdf), the pdf used that explains how getcontext works to fingerprint and [webgl](https://browserleaks.com/webgl) fingerprinting. "
   ]
  },
  {
   "cell_type": "markdown",
   "metadata": {},
   "source": [
    "# Canvas Fingerprinting Check"
   ]
  },
  {
   "cell_type": "markdown",
   "metadata": {},
   "source": [
    "Princton University ran a project looking into various fingerprinting methods and came up with a long list of script URLs that make use of Canvas fingerprinting. The URL is located [here](https://webtransparency.cs.princeton.edu/webcensus/canvas_scripts.html). We compared the data found in the Princeton .tsv against the suspected canvas using URLs. We found that the URLs that have been popping up in our data pulls matched those gathered by Princeton, which helps both show what kind of Canvas attributes are being used and also to backup our analysis.  "
   ]
  },
  {
   "cell_type": "code",
   "execution_count": 27,
   "metadata": {},
   "outputs": [],
   "source": [
    "def get_cfp_sites():\n",
    "    \"\"\"Loads a list of canvas fingerprinting script providers discovered as part of the Princeton WebTAP project,\n",
    "    which listed sites within the Alexa top 100,000 that show signs of canvas fingerprinting scripts.\n",
    "    \"\"\"\n",
    "    cfp_csv_raw = requests.get(\"https://webtransparency.cs.princeton.edu/webcensus/canvas_fingerprinting.tsv\")\n",
    "    # cfp_csv_raw\n",
    "    cfp_csv = pd.read_csv(StringIO(cfp_csv_raw.text), sep=\"\\t\",  names=[\"site\", \"fp_domain\"])\n",
    "    cfp_csv['fp_cut_domain'] = cfp_csv.fp_domain.apply(extract_domain)\n",
    "    return list(cfp_csv.fp_cut_domain.unique())"
   ]
  },
  {
   "cell_type": "code",
   "execution_count": 28,
   "metadata": {},
   "outputs": [],
   "source": [
    "#Gets list of script domains\n",
    "cfp_sites = get_cfp_sites()"
   ]
  },
  {
   "cell_type": "markdown",
   "metadata": {},
   "source": [
    "How many unique domains are there?"
   ]
  },
  {
   "cell_type": "code",
   "execution_count": 29,
   "metadata": {},
   "outputs": [
    {
     "data": {
      "text/plain": [
       "373"
      ]
     },
     "execution_count": 29,
     "metadata": {},
     "output_type": "execute_result"
    }
   ],
   "source": [
    "len(cfp_sites)"
   ]
  },
  {
   "cell_type": "code",
   "execution_count": 34,
   "metadata": {},
   "outputs": [
    {
     "data": {
      "text/plain": [
       "['doubleverify.com',\n",
       " 'lijit.com',\n",
       " 'adbox.lk',\n",
       " 'aa.com.ve',\n",
       " 'seewhy.com',\n",
       " 'adf.ly',\n",
       " 'addthis.com',\n",
       " 'bling99.com',\n",
       " 'playsport.cc',\n",
       " 'gazeta.pl']"
      ]
     },
     "execution_count": 34,
     "metadata": {},
     "output_type": "execute_result"
    }
   ],
   "source": [
    "cfp_sites[0:10]"
   ]
  },
  {
   "cell_type": "markdown",
   "metadata": {},
   "source": [
    "Next, we find instances in the full dataset where the script_url is one of the known session replay providers.\n",
    "\n",
    "First, extract the main page URLs and script URLs from the dataset\n"
   ]
  },
  {
   "cell_type": "code",
   "execution_count": 36,
   "metadata": {},
   "outputs": [
    {
     "data": {
      "text/plain": [
       "563430"
      ]
     },
     "execution_count": 36,
     "metadata": {},
     "output_type": "execute_result"
    }
   ],
   "source": [
    "df = spark.read.parquet(PARQUET_FILE) #Adjust to PARQUET_FILE\n",
    "df.count() "
   ]
  },
  {
   "cell_type": "markdown",
   "metadata": {},
   "source": [
    "How many distinct script calls are there in the full dataset?"
   ]
  },
  {
   "cell_type": "code",
   "execution_count": 38,
   "metadata": {},
   "outputs": [
    {
     "data": {
      "text/plain": [
       "29688"
      ]
     },
     "execution_count": 38,
     "metadata": {},
     "output_type": "execute_result"
    }
   ],
   "source": [
    "df_urls = df.select(\"location\", \"script_url\").distinct()\n",
    "n_rows = df_urls.count()\n",
    "n_rows"
   ]
  },
  {
   "cell_type": "markdown",
   "metadata": {},
   "source": [
    "Add additional colums for extracted components of the URLs that we will use in the analysis."
   ]
  },
  {
   "cell_type": "code",
   "execution_count": 39,
   "metadata": {},
   "outputs": [],
   "source": [
    "def parse_base_url(url):\n",
    "  \"\"\" Extract the base part of a URL (netloc, up until the first '/'). \"\"\"\n",
    "  return urlparse(url).netloc\n",
    "udf_parse_base_url = udf(parse_base_url, StringType())\n",
    "\n",
    "def parse_url_scheme(url):\n",
    "  \"\"\" Extract the scheme (protocol) from a URL. \"\"\"\n",
    "  return urlparse(url).scheme\n",
    "udf_parse_url_scheme = udf(parse_url_scheme, StringType())\n",
    "\n",
    "def parse_suffix(url):\n",
    "  \"\"\" Extract the suffix (TLD) from a URL. \"\"\"\n",
    "  return url.split(\".\")[-1]\n",
    "udf_parse_suffix = udf(parse_suffix, StringType())"
   ]
  },
  {
   "cell_type": "code",
   "execution_count": 40,
   "metadata": {},
   "outputs": [],
   "source": [
    "# total distinct script calls with added columns\n",
    "udf_parse_domain = udf(extract_domain, StringType())\n",
    "df_urls = df_urls.withColumn(\"base_location_url\", udf_parse_base_url(df.location))\\\n",
    "  .withColumn(\"base_script_url\", udf_parse_base_url(df.script_url))\\\n",
    "  .withColumn(\"location_scheme\", udf_parse_url_scheme(df.location))\\\n",
    "  .withColumn(\"script_scheme\", udf_parse_url_scheme(df.script_url))\\\n",
    "  .withColumn(\"location_domain\", udf_parse_domain(df.location))\\\n",
    "  .withColumn(\"script_domain\", udf_parse_domain(df.script_url))\n",
    "df_urls = df_urls.withColumn(\"location_suffix\", udf_parse_suffix(df_urls.base_location_url))"
   ]
  },
  {
   "cell_type": "markdown",
   "metadata": {},
   "source": [
    "## Canvas fingerprinting scripts\n",
    "\n",
    "Find the subset that correspond to canvas fingerprinting scripts."
   ]
  },
  {
   "cell_type": "code",
   "execution_count": 42,
   "metadata": {},
   "outputs": [],
   "source": [
    "CFP_REGEX = \"|\".join(cfp_sites)"
   ]
  },
  {
   "cell_type": "code",
   "execution_count": 43,
   "metadata": {},
   "outputs": [
    {
     "data": {
      "text/plain": [
       "'doubleverify.com|lijit.com|adbox.lk|aa.com.ve|seewhy.com|adf.ly|addthis.com|bling99.com|playsport.cc|gazeta.pl|banker.bg|spankbang.com|cloudfront.net|shopjapan.co.jp|cdnetworks.com|bitmedia.io|nt.vc|eyenewton.ru|eyereturn.com|watcheezy.com|pxi.pub|wemark.com|emop.be|groupon.ch|groupon.co.uk|groupon.be|groupon.pt|pof.de|yandex.ru|cntntflow.hu|poll-maker.com|watcheezy.net|runningbare.com.au|fraudmetrix.cn|cloudcrm.co|mileroticos.com|uol.com.br|imusicaradios.com.br|constantcontact.com|pet360.com|ratepay.com|trustedform.com|imedia.cz|sa-mp.im|metrigo.com|cdnetworks.co.jp|free-dollar.com|pof.com.mx|qualoperadora.net|groupon.cl|cformanalytics.com|mindedgeonline.com|job1001.com|machinio.com|pardisgame.net|y-track.com|adlibr.com|straitstimes.com|groupon.it|kbmg.com|jogging-point.de|vimeoo.net|kf2.pl|eternalcrusade.com|news.com.au|ozelders.com|namebrightstatic.com|grouponnz.co.nz|revmob.com|amazonaws.com|websosanh.com|laaptu.com|ml.com|emarsys.net|groupon.se|163.com|worldota.net|rastclick.com|cubo.ru|qbox.me|todesanzeigenportal.ch|mikunu.hu|c-ctrip.com|lmitassets.com|100credit.com|popmajor.com|magnuum.com|detecas.com|blacklapel.com|overheat.it|dmp.expert|loglys.com|tennis-point.es|maxmind.com|pornimagex.com|listenloop.com|tech.eu|groupon.dk|visitdubai.com|baituibao.com|r24-tech.com|edgesuite.net|24k88.eu|liverail.com|dataguru.cn|safe-swaps.com|ringcaptcha.com|dropboxstatic.com|groupon.ae|yimg.jp|tilley.com|tagcommander.com|sehirfirsati.com|bethesda.net|ze.gy|lnwtrue.com|finance.si|avito.st|pof.com|luxbet.com|llnwd.net|sendinblue.com|dvipcdn.com|rslt-tm.com|divers-supply.com|peachjohn.co.jp|plenigo.com|farmforumequipment.com|directnet.com|vcmedia.vn|stockpair.com|bitcoin-purple.com|portaldaagencia.com.br|hwcdn.net|groupon.de|sklik.cz|pokerstars.com|tecnomedia.info|arabiantravelmarket.com|imngmedicalmedia.com|triongames.com|maximizatusganancias.com|linecladis.pl|groupon.at|tennis-point.se|tbcdn.cn|mupads.de|wirespring.net|minecraftforum.nl|walmart.com|pixlee.com|ctrip.com|topmags.com|6000.ru|clearsale.com.br|adacado.com|fmail1.com|cdn-net.com|bitcoin-green.com|k-analytix.com|beelert.com|niftymillionaire.com|autoaubaine.com|bsg-online.com|nrc.nl|litcult.ru|freebitcoinnow.com|americanairlines.cn|tennis-point.com|terre-net-media.fr|meilishuo.com|hujiang.com|glo-bus.com|bitcoin-blue.com|gbk.co.uk|aa.com.br|novelasnow.info|artklen.ru|groupon.com.au|art.su|pof.fr|tennis-point.fr|yesbackup.com|bonfirefunds.com|emrrs.com|tiger333.com|groupon.ca|tennis-point.ch|nitroflare.com|pcforum.sk|nnt.ro|conradpro.fr|mogucdn.com|cncenter.cz|audienceinsights.net|groupon.fr|adlb.in|goloopdevs.com|udimi.com|pilotsofamerica.com|intherooms.com|conrad.fr|dropcatch.com|aa.com.do|winfreelitecoin.com|3suisses.be|yogiyo.co.kr|groupon.com.pe|surveygizmo.com|madeleine.fr|bitmarket.pl|cuberoot.co|7sheep.net|groupon.co.za|viralies.com|americanairlines.co.uk|185.86.180.17.|revenviews.com|aixuedai.com|anexia-it.com|kinley.com|magazine.org|ad-score.com|supplychainbrain.com|meinkauf.at|flx1.com|myfritz.net|bubobox.com|stuartweitzman.ca|bitcoin-black.com|krxd.net|retargetingbase.com|guahao.com|groupon.ie|cellartracker.com|websosanh.vn|commbank.com.au|pokerstars.eu|bvckup2.com|ch10.co.il|payleven.com.br|webcube-dsp.jp|groupon.nl|alephbeta.org|groupon.com.br|ponroy.com|sexlog.com.br|castorus.com|groupon.fi|mailup.com|mooma.sh|portal-srbija.com|pcgamesupply.com|thefunnel.jp|eventim.com|bitcoin-red.com|alicdn.com|linio.com.mx|alfafile.net|guff.com|hypem.net|newsmonkey.be|online-safest.com|altayyaronline.com|paidai.com|francescas.com|pangjian.info|126.net|tennis-point.it|bkrtx.com|gpbikes.com|maskool.in|rtbf.be|onlinebingo.eu|gifthunterclub.com|tda.io|navigator.io|minichan.org|cabforce.com|tennis-point.de|e-hawk.net|csemag.com|voguepay.com|midem.com|khamnamkhoa.org|korbit.co.kr|herr.io|robertsspaceindustries.com|kichink.com|top10bestdatingsites.co.za|voipbuster.com|vezetvsem.ru|cashew3d.com|groupon.co.il|lynxbroker.de|culture.ru|boo-box.com|ind.sh|chroma.pl|lifeproof.jp|cartrucktrader.com|groupon.com.co|52.28.105.192.|49winners.com|dotwconnect.com|codziennypoznan.pl|playnowunlimited.biz|bitcoin-yellow.com|ipage.com|avianca.com.br|pepper56.com|hu.com|groupon.es|controleng.com|wiredminds.de|webdistrib.com|grouponcdn.com|freebitcoinwin.com|prozeny.cz|metascan-online.com|bitcoin2048.com|cafe-privilege.com|earnbitcoinz.com|groupon.com.ar|americanairlines.cl|willemsefrance.fr|incapsula.mobi|eestatic.com|startaj.si|pageplusbillpay.com|trustami.com|pof.es|laaptu.co.in|e701.net|bizwest.com|petfooddirect.com|10bo1010.com|online-metrix.net|saveinstore.com|memes.com|bonjoin.com|revtrax.com|mhconx.com|affec.tv|groupon.gr|wacker.com|bigfm.de|groupon.com.mx|pagespeedgrader.com|tennis-point.nl|nigeriapoliticsonline.com|turboyourpc.com|kibitzer.io|csp.fr|x2crm.com|aa.com|groupon.pl|duosecurity.com|fonmoney.com|plantengineering.com|adpearance.com|pof.com.br|gamecollections.net|direct2drive.com|imn.jp|szgla.com|fantage.com|innogamescdn.com|wazap.com|aa.com.pe|pikabu.ru|bitcoin-orange.com|domananeve.ru'"
      ]
     },
     "execution_count": 43,
     "metadata": {},
     "output_type": "execute_result"
    }
   ],
   "source": [
    "CFP_REGEX"
   ]
  },
  {
   "cell_type": "code",
   "execution_count": 45,
   "metadata": {},
   "outputs": [],
   "source": [
    "sites_using_canvas_fingerprinting =  df_urls.filter(df_urls.base_script_url.rlike(CFP_REGEX))"
   ]
  },
  {
   "cell_type": "markdown",
   "metadata": {},
   "source": [
    "Overall, how many calls are made to canvas fingerprinting scripts?"
   ]
  },
  {
   "cell_type": "code",
   "execution_count": 47,
   "metadata": {},
   "outputs": [
    {
     "data": {
      "text/plain": [
       "2105"
      ]
     },
     "execution_count": 47,
     "metadata": {},
     "output_type": "execute_result"
    }
   ],
   "source": [
    "sites_using_canvas_fingerprinting.count()"
   ]
  },
  {
   "cell_type": "markdown",
   "metadata": {},
   "source": [
    "above is the number of distinct calls to canvas fingerprinting scripts (one location might call two different scripts)\n",
    "\n",
    "from 29688 distinct calls, 2105 were made to known canvas fingerprinting script urls"
   ]
  },
  {
   "cell_type": "markdown",
   "metadata": {},
   "source": [
    "How many distinct base URLs are there among the sites in the dataset? (from 29688 distinct calls- where one location might make 2 different calls and therefor be listed twice- how many distinct locations are making calls?)"
   ]
  },
  {
   "cell_type": "code",
   "execution_count": 48,
   "metadata": {},
   "outputs": [
    {
     "data": {
      "text/plain": [
       "3405"
      ]
     },
     "execution_count": 48,
     "metadata": {},
     "output_type": "execute_result"
    }
   ],
   "source": [
    "df_urls.dropDuplicates(['base_location_url']).count()"
   ]
  },
  {
   "cell_type": "markdown",
   "metadata": {},
   "source": [
    "3405 locations (base urls) out of 29688 are distinct"
   ]
  },
  {
   "cell_type": "markdown",
   "metadata": {},
   "source": [
    "And of **those** using cfp?\n"
   ]
  },
  {
   "cell_type": "code",
   "execution_count": 49,
   "metadata": {},
   "outputs": [
    {
     "data": {
      "text/plain": [
       "701"
      ]
     },
     "execution_count": 49,
     "metadata": {},
     "output_type": "execute_result"
    }
   ],
   "source": [
    "sites_using_canvas_fingerprinting.dropDuplicates(['base_location_url']).count()\n"
   ]
  },
  {
   "cell_type": "markdown",
   "metadata": {},
   "source": [
    "Of the 3405 total distinct calls to known canvas fingerprinting scripts, 701 of those locations are distinct, which is quite a significant finding. "
   ]
  },
  {
   "cell_type": "markdown",
   "metadata": {},
   "source": [
    "Overall stats\n",
    "\n",
    "    Total unique (page, script) calls in the dataset: 29688\n",
    "    Total unique base locations (netloc): 3405\n",
    "\n",
    "    Total unique calls to CFP providers: 2105\n",
    "    Total unique base locations using CFP: 701\n",
    "    % of calls that are to a CFP provider: 7% (2105/29688)\n",
    "    % of sites(base url) that uses a CFP provider: 21% (701/3405) \n",
    "    "
   ]
  }
 ],
 "metadata": {
  "kernelspec": {
   "display_name": "Python 3",
   "language": "python",
   "name": "python3"
  },
  "language_info": {
   "codemirror_mode": {
    "name": "ipython",
    "version": 3
   },
   "file_extension": ".py",
   "mimetype": "text/x-python",
   "name": "python",
   "nbconvert_exporter": "python",
   "pygments_lexer": "ipython3",
   "version": "3.6.6"
  }
 },
 "nbformat": 4,
 "nbformat_minor": 2
}

